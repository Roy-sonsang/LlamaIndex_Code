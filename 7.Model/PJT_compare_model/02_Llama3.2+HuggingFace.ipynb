{
 "cells": [
  {
   "cell_type": "code",
   "execution_count": 1,
   "metadata": {},
   "outputs": [
    {
     "name": "stdout",
     "output_type": "stream",
     "text": [
      "Requirement already satisfied: llama-index-embeddings-huggingface in /Users/sangwoo/Desktop/PYTHON BASIC/LLAMA_INDEX/LlamaIndex_Codes/llamaindex_env/lib/python3.11/site-packages (0.4.0)\n",
      "Requirement already satisfied: huggingface-hub>=0.19.0 in /Users/sangwoo/Desktop/PYTHON BASIC/LLAMA_INDEX/LlamaIndex_Codes/llamaindex_env/lib/python3.11/site-packages (from huggingface-hub[inference]>=0.19.0->llama-index-embeddings-huggingface) (0.27.0)\n",
      "Requirement already satisfied: llama-index-core<0.13.0,>=0.12.0 in /Users/sangwoo/Desktop/PYTHON BASIC/LLAMA_INDEX/LlamaIndex_Codes/llamaindex_env/lib/python3.11/site-packages (from llama-index-embeddings-huggingface) (0.12.8)\n",
      "Requirement already satisfied: sentence-transformers>=2.6.1 in /Users/sangwoo/Desktop/PYTHON BASIC/LLAMA_INDEX/LlamaIndex_Codes/llamaindex_env/lib/python3.11/site-packages (from llama-index-embeddings-huggingface) (3.3.1)\n",
      "Requirement already satisfied: filelock in /Users/sangwoo/Desktop/PYTHON BASIC/LLAMA_INDEX/LlamaIndex_Codes/llamaindex_env/lib/python3.11/site-packages (from huggingface-hub>=0.19.0->huggingface-hub[inference]>=0.19.0->llama-index-embeddings-huggingface) (3.16.1)\n",
      "Requirement already satisfied: fsspec>=2023.5.0 in /Users/sangwoo/Desktop/PYTHON BASIC/LLAMA_INDEX/LlamaIndex_Codes/llamaindex_env/lib/python3.11/site-packages (from huggingface-hub>=0.19.0->huggingface-hub[inference]>=0.19.0->llama-index-embeddings-huggingface) (2024.10.0)\n",
      "Requirement already satisfied: packaging>=20.9 in /Users/sangwoo/Desktop/PYTHON BASIC/LLAMA_INDEX/LlamaIndex_Codes/llamaindex_env/lib/python3.11/site-packages (from huggingface-hub>=0.19.0->huggingface-hub[inference]>=0.19.0->llama-index-embeddings-huggingface) (24.1)\n",
      "Requirement already satisfied: pyyaml>=5.1 in /Users/sangwoo/Desktop/PYTHON BASIC/LLAMA_INDEX/LlamaIndex_Codes/llamaindex_env/lib/python3.11/site-packages (from huggingface-hub>=0.19.0->huggingface-hub[inference]>=0.19.0->llama-index-embeddings-huggingface) (6.0.2)\n",
      "Requirement already satisfied: requests in /Users/sangwoo/Desktop/PYTHON BASIC/LLAMA_INDEX/LlamaIndex_Codes/llamaindex_env/lib/python3.11/site-packages (from huggingface-hub>=0.19.0->huggingface-hub[inference]>=0.19.0->llama-index-embeddings-huggingface) (2.32.3)\n",
      "Requirement already satisfied: tqdm>=4.42.1 in /Users/sangwoo/Desktop/PYTHON BASIC/LLAMA_INDEX/LlamaIndex_Codes/llamaindex_env/lib/python3.11/site-packages (from huggingface-hub>=0.19.0->huggingface-hub[inference]>=0.19.0->llama-index-embeddings-huggingface) (4.66.6)\n",
      "Requirement already satisfied: typing-extensions>=3.7.4.3 in /Users/sangwoo/Desktop/PYTHON BASIC/LLAMA_INDEX/LlamaIndex_Codes/llamaindex_env/lib/python3.11/site-packages (from huggingface-hub>=0.19.0->huggingface-hub[inference]>=0.19.0->llama-index-embeddings-huggingface) (4.12.2)\n",
      "Requirement already satisfied: aiohttp in /Users/sangwoo/Desktop/PYTHON BASIC/LLAMA_INDEX/LlamaIndex_Codes/llamaindex_env/lib/python3.11/site-packages (from huggingface-hub[inference]>=0.19.0->llama-index-embeddings-huggingface) (3.10.10)\n",
      "Requirement already satisfied: SQLAlchemy>=1.4.49 in /Users/sangwoo/Desktop/PYTHON BASIC/LLAMA_INDEX/LlamaIndex_Codes/llamaindex_env/lib/python3.11/site-packages (from SQLAlchemy[asyncio]>=1.4.49->llama-index-core<0.13.0,>=0.12.0->llama-index-embeddings-huggingface) (2.0.36)\n",
      "Requirement already satisfied: dataclasses-json in /Users/sangwoo/Desktop/PYTHON BASIC/LLAMA_INDEX/LlamaIndex_Codes/llamaindex_env/lib/python3.11/site-packages (from llama-index-core<0.13.0,>=0.12.0->llama-index-embeddings-huggingface) (0.6.7)\n",
      "Requirement already satisfied: deprecated>=1.2.9.3 in /Users/sangwoo/Desktop/PYTHON BASIC/LLAMA_INDEX/LlamaIndex_Codes/llamaindex_env/lib/python3.11/site-packages (from llama-index-core<0.13.0,>=0.12.0->llama-index-embeddings-huggingface) (1.2.14)\n",
      "Requirement already satisfied: dirtyjson<2.0.0,>=1.0.8 in /Users/sangwoo/Desktop/PYTHON BASIC/LLAMA_INDEX/LlamaIndex_Codes/llamaindex_env/lib/python3.11/site-packages (from llama-index-core<0.13.0,>=0.12.0->llama-index-embeddings-huggingface) (1.0.8)\n",
      "Requirement already satisfied: filetype<2.0.0,>=1.2.0 in /Users/sangwoo/Desktop/PYTHON BASIC/LLAMA_INDEX/LlamaIndex_Codes/llamaindex_env/lib/python3.11/site-packages (from llama-index-core<0.13.0,>=0.12.0->llama-index-embeddings-huggingface) (1.2.0)\n",
      "Requirement already satisfied: httpx in /Users/sangwoo/Desktop/PYTHON BASIC/LLAMA_INDEX/LlamaIndex_Codes/llamaindex_env/lib/python3.11/site-packages (from llama-index-core<0.13.0,>=0.12.0->llama-index-embeddings-huggingface) (0.27.2)\n",
      "Requirement already satisfied: nest-asyncio<2.0.0,>=1.5.8 in /Users/sangwoo/Desktop/PYTHON BASIC/LLAMA_INDEX/LlamaIndex_Codes/llamaindex_env/lib/python3.11/site-packages (from llama-index-core<0.13.0,>=0.12.0->llama-index-embeddings-huggingface) (1.6.0)\n",
      "Requirement already satisfied: networkx>=3.0 in /Users/sangwoo/Desktop/PYTHON BASIC/LLAMA_INDEX/LlamaIndex_Codes/llamaindex_env/lib/python3.11/site-packages (from llama-index-core<0.13.0,>=0.12.0->llama-index-embeddings-huggingface) (3.4.2)\n",
      "Requirement already satisfied: nltk>3.8.1 in /Users/sangwoo/Desktop/PYTHON BASIC/LLAMA_INDEX/LlamaIndex_Codes/llamaindex_env/lib/python3.11/site-packages (from llama-index-core<0.13.0,>=0.12.0->llama-index-embeddings-huggingface) (3.9.1)\n",
      "Requirement already satisfied: numpy in /Users/sangwoo/Desktop/PYTHON BASIC/LLAMA_INDEX/LlamaIndex_Codes/llamaindex_env/lib/python3.11/site-packages (from llama-index-core<0.13.0,>=0.12.0->llama-index-embeddings-huggingface) (1.26.4)\n",
      "Requirement already satisfied: pillow>=9.0.0 in /Users/sangwoo/Desktop/PYTHON BASIC/LLAMA_INDEX/LlamaIndex_Codes/llamaindex_env/lib/python3.11/site-packages (from llama-index-core<0.13.0,>=0.12.0->llama-index-embeddings-huggingface) (10.4.0)\n",
      "Requirement already satisfied: pydantic>=2.8.0 in /Users/sangwoo/Desktop/PYTHON BASIC/LLAMA_INDEX/LlamaIndex_Codes/llamaindex_env/lib/python3.11/site-packages (from llama-index-core<0.13.0,>=0.12.0->llama-index-embeddings-huggingface) (2.9.2)\n",
      "Requirement already satisfied: tenacity!=8.4.0,<10.0.0,>=8.2.0 in /Users/sangwoo/Desktop/PYTHON BASIC/LLAMA_INDEX/LlamaIndex_Codes/llamaindex_env/lib/python3.11/site-packages (from llama-index-core<0.13.0,>=0.12.0->llama-index-embeddings-huggingface) (8.5.0)\n",
      "Requirement already satisfied: tiktoken>=0.3.3 in /Users/sangwoo/Desktop/PYTHON BASIC/LLAMA_INDEX/LlamaIndex_Codes/llamaindex_env/lib/python3.11/site-packages (from llama-index-core<0.13.0,>=0.12.0->llama-index-embeddings-huggingface) (0.8.0)\n",
      "Requirement already satisfied: typing-inspect>=0.8.0 in /Users/sangwoo/Desktop/PYTHON BASIC/LLAMA_INDEX/LlamaIndex_Codes/llamaindex_env/lib/python3.11/site-packages (from llama-index-core<0.13.0,>=0.12.0->llama-index-embeddings-huggingface) (0.9.0)\n",
      "Requirement already satisfied: wrapt in /Users/sangwoo/Desktop/PYTHON BASIC/LLAMA_INDEX/LlamaIndex_Codes/llamaindex_env/lib/python3.11/site-packages (from llama-index-core<0.13.0,>=0.12.0->llama-index-embeddings-huggingface) (1.16.0)\n",
      "Requirement already satisfied: transformers<5.0.0,>=4.41.0 in /Users/sangwoo/Desktop/PYTHON BASIC/LLAMA_INDEX/LlamaIndex_Codes/llamaindex_env/lib/python3.11/site-packages (from sentence-transformers>=2.6.1->llama-index-embeddings-huggingface) (4.47.1)\n",
      "Requirement already satisfied: torch>=1.11.0 in /Users/sangwoo/Desktop/PYTHON BASIC/LLAMA_INDEX/LlamaIndex_Codes/llamaindex_env/lib/python3.11/site-packages (from sentence-transformers>=2.6.1->llama-index-embeddings-huggingface) (2.2.2)\n",
      "Requirement already satisfied: scikit-learn in /Users/sangwoo/Desktop/PYTHON BASIC/LLAMA_INDEX/LlamaIndex_Codes/llamaindex_env/lib/python3.11/site-packages (from sentence-transformers>=2.6.1->llama-index-embeddings-huggingface) (1.6.0)\n",
      "Requirement already satisfied: scipy in /Users/sangwoo/Desktop/PYTHON BASIC/LLAMA_INDEX/LlamaIndex_Codes/llamaindex_env/lib/python3.11/site-packages (from sentence-transformers>=2.6.1->llama-index-embeddings-huggingface) (1.14.1)\n",
      "Requirement already satisfied: aiohappyeyeballs>=2.3.0 in /Users/sangwoo/Desktop/PYTHON BASIC/LLAMA_INDEX/LlamaIndex_Codes/llamaindex_env/lib/python3.11/site-packages (from aiohttp->huggingface-hub[inference]>=0.19.0->llama-index-embeddings-huggingface) (2.4.3)\n",
      "Requirement already satisfied: aiosignal>=1.1.2 in /Users/sangwoo/Desktop/PYTHON BASIC/LLAMA_INDEX/LlamaIndex_Codes/llamaindex_env/lib/python3.11/site-packages (from aiohttp->huggingface-hub[inference]>=0.19.0->llama-index-embeddings-huggingface) (1.3.1)\n",
      "Requirement already satisfied: attrs>=17.3.0 in /Users/sangwoo/Desktop/PYTHON BASIC/LLAMA_INDEX/LlamaIndex_Codes/llamaindex_env/lib/python3.11/site-packages (from aiohttp->huggingface-hub[inference]>=0.19.0->llama-index-embeddings-huggingface) (24.2.0)\n",
      "Requirement already satisfied: frozenlist>=1.1.1 in /Users/sangwoo/Desktop/PYTHON BASIC/LLAMA_INDEX/LlamaIndex_Codes/llamaindex_env/lib/python3.11/site-packages (from aiohttp->huggingface-hub[inference]>=0.19.0->llama-index-embeddings-huggingface) (1.5.0)\n",
      "Requirement already satisfied: multidict<7.0,>=4.5 in /Users/sangwoo/Desktop/PYTHON BASIC/LLAMA_INDEX/LlamaIndex_Codes/llamaindex_env/lib/python3.11/site-packages (from aiohttp->huggingface-hub[inference]>=0.19.0->llama-index-embeddings-huggingface) (6.1.0)\n",
      "Requirement already satisfied: yarl<2.0,>=1.12.0 in /Users/sangwoo/Desktop/PYTHON BASIC/LLAMA_INDEX/LlamaIndex_Codes/llamaindex_env/lib/python3.11/site-packages (from aiohttp->huggingface-hub[inference]>=0.19.0->llama-index-embeddings-huggingface) (1.17.1)\n",
      "Requirement already satisfied: click in /Users/sangwoo/Desktop/PYTHON BASIC/LLAMA_INDEX/LlamaIndex_Codes/llamaindex_env/lib/python3.11/site-packages (from nltk>3.8.1->llama-index-core<0.13.0,>=0.12.0->llama-index-embeddings-huggingface) (8.1.7)\n",
      "Requirement already satisfied: joblib in /Users/sangwoo/Desktop/PYTHON BASIC/LLAMA_INDEX/LlamaIndex_Codes/llamaindex_env/lib/python3.11/site-packages (from nltk>3.8.1->llama-index-core<0.13.0,>=0.12.0->llama-index-embeddings-huggingface) (1.4.2)\n",
      "Requirement already satisfied: regex>=2021.8.3 in /Users/sangwoo/Desktop/PYTHON BASIC/LLAMA_INDEX/LlamaIndex_Codes/llamaindex_env/lib/python3.11/site-packages (from nltk>3.8.1->llama-index-core<0.13.0,>=0.12.0->llama-index-embeddings-huggingface) (2024.9.11)\n",
      "Requirement already satisfied: annotated-types>=0.6.0 in /Users/sangwoo/Desktop/PYTHON BASIC/LLAMA_INDEX/LlamaIndex_Codes/llamaindex_env/lib/python3.11/site-packages (from pydantic>=2.8.0->llama-index-core<0.13.0,>=0.12.0->llama-index-embeddings-huggingface) (0.7.0)\n",
      "Requirement already satisfied: pydantic-core==2.23.4 in /Users/sangwoo/Desktop/PYTHON BASIC/LLAMA_INDEX/LlamaIndex_Codes/llamaindex_env/lib/python3.11/site-packages (from pydantic>=2.8.0->llama-index-core<0.13.0,>=0.12.0->llama-index-embeddings-huggingface) (2.23.4)\n",
      "Requirement already satisfied: charset-normalizer<4,>=2 in /Users/sangwoo/Desktop/PYTHON BASIC/LLAMA_INDEX/LlamaIndex_Codes/llamaindex_env/lib/python3.11/site-packages (from requests->huggingface-hub>=0.19.0->huggingface-hub[inference]>=0.19.0->llama-index-embeddings-huggingface) (3.4.0)\n",
      "Requirement already satisfied: idna<4,>=2.5 in /Users/sangwoo/Desktop/PYTHON BASIC/LLAMA_INDEX/LlamaIndex_Codes/llamaindex_env/lib/python3.11/site-packages (from requests->huggingface-hub>=0.19.0->huggingface-hub[inference]>=0.19.0->llama-index-embeddings-huggingface) (3.10)\n",
      "Requirement already satisfied: urllib3<3,>=1.21.1 in /Users/sangwoo/Desktop/PYTHON BASIC/LLAMA_INDEX/LlamaIndex_Codes/llamaindex_env/lib/python3.11/site-packages (from requests->huggingface-hub>=0.19.0->huggingface-hub[inference]>=0.19.0->llama-index-embeddings-huggingface) (2.2.3)\n",
      "Requirement already satisfied: certifi>=2017.4.17 in /Users/sangwoo/Desktop/PYTHON BASIC/LLAMA_INDEX/LlamaIndex_Codes/llamaindex_env/lib/python3.11/site-packages (from requests->huggingface-hub>=0.19.0->huggingface-hub[inference]>=0.19.0->llama-index-embeddings-huggingface) (2024.8.30)\n",
      "Requirement already satisfied: greenlet!=0.4.17 in /Users/sangwoo/Desktop/PYTHON BASIC/LLAMA_INDEX/LlamaIndex_Codes/llamaindex_env/lib/python3.11/site-packages (from SQLAlchemy>=1.4.49->SQLAlchemy[asyncio]>=1.4.49->llama-index-core<0.13.0,>=0.12.0->llama-index-embeddings-huggingface) (3.1.1)\n",
      "Requirement already satisfied: sympy in /Users/sangwoo/Desktop/PYTHON BASIC/LLAMA_INDEX/LlamaIndex_Codes/llamaindex_env/lib/python3.11/site-packages (from torch>=1.11.0->sentence-transformers>=2.6.1->llama-index-embeddings-huggingface) (1.13.3)\n",
      "Requirement already satisfied: jinja2 in /Users/sangwoo/Desktop/PYTHON BASIC/LLAMA_INDEX/LlamaIndex_Codes/llamaindex_env/lib/python3.11/site-packages (from torch>=1.11.0->sentence-transformers>=2.6.1->llama-index-embeddings-huggingface) (3.1.4)\n",
      "Requirement already satisfied: tokenizers<0.22,>=0.21 in /Users/sangwoo/Desktop/PYTHON BASIC/LLAMA_INDEX/LlamaIndex_Codes/llamaindex_env/lib/python3.11/site-packages (from transformers<5.0.0,>=4.41.0->sentence-transformers>=2.6.1->llama-index-embeddings-huggingface) (0.21.0)\n",
      "Requirement already satisfied: safetensors>=0.4.1 in /Users/sangwoo/Desktop/PYTHON BASIC/LLAMA_INDEX/LlamaIndex_Codes/llamaindex_env/lib/python3.11/site-packages (from transformers<5.0.0,>=4.41.0->sentence-transformers>=2.6.1->llama-index-embeddings-huggingface) (0.4.5)\n",
      "Requirement already satisfied: mypy-extensions>=0.3.0 in /Users/sangwoo/Desktop/PYTHON BASIC/LLAMA_INDEX/LlamaIndex_Codes/llamaindex_env/lib/python3.11/site-packages (from typing-inspect>=0.8.0->llama-index-core<0.13.0,>=0.12.0->llama-index-embeddings-huggingface) (1.0.0)\n",
      "Requirement already satisfied: marshmallow<4.0.0,>=3.18.0 in /Users/sangwoo/Desktop/PYTHON BASIC/LLAMA_INDEX/LlamaIndex_Codes/llamaindex_env/lib/python3.11/site-packages (from dataclasses-json->llama-index-core<0.13.0,>=0.12.0->llama-index-embeddings-huggingface) (3.23.1)\n",
      "Requirement already satisfied: anyio in /Users/sangwoo/Desktop/PYTHON BASIC/LLAMA_INDEX/LlamaIndex_Codes/llamaindex_env/lib/python3.11/site-packages (from httpx->llama-index-core<0.13.0,>=0.12.0->llama-index-embeddings-huggingface) (4.6.2.post1)\n",
      "Requirement already satisfied: httpcore==1.* in /Users/sangwoo/Desktop/PYTHON BASIC/LLAMA_INDEX/LlamaIndex_Codes/llamaindex_env/lib/python3.11/site-packages (from httpx->llama-index-core<0.13.0,>=0.12.0->llama-index-embeddings-huggingface) (1.0.6)\n",
      "Requirement already satisfied: sniffio in /Users/sangwoo/Desktop/PYTHON BASIC/LLAMA_INDEX/LlamaIndex_Codes/llamaindex_env/lib/python3.11/site-packages (from httpx->llama-index-core<0.13.0,>=0.12.0->llama-index-embeddings-huggingface) (1.3.1)\n",
      "Requirement already satisfied: h11<0.15,>=0.13 in /Users/sangwoo/Desktop/PYTHON BASIC/LLAMA_INDEX/LlamaIndex_Codes/llamaindex_env/lib/python3.11/site-packages (from httpcore==1.*->httpx->llama-index-core<0.13.0,>=0.12.0->llama-index-embeddings-huggingface) (0.14.0)\n",
      "Requirement already satisfied: threadpoolctl>=3.1.0 in /Users/sangwoo/Desktop/PYTHON BASIC/LLAMA_INDEX/LlamaIndex_Codes/llamaindex_env/lib/python3.11/site-packages (from scikit-learn->sentence-transformers>=2.6.1->llama-index-embeddings-huggingface) (3.5.0)\n",
      "Requirement already satisfied: propcache>=0.2.0 in /Users/sangwoo/Desktop/PYTHON BASIC/LLAMA_INDEX/LlamaIndex_Codes/llamaindex_env/lib/python3.11/site-packages (from yarl<2.0,>=1.12.0->aiohttp->huggingface-hub[inference]>=0.19.0->llama-index-embeddings-huggingface) (0.2.0)\n",
      "Requirement already satisfied: MarkupSafe>=2.0 in /Users/sangwoo/Desktop/PYTHON BASIC/LLAMA_INDEX/LlamaIndex_Codes/llamaindex_env/lib/python3.11/site-packages (from jinja2->torch>=1.11.0->sentence-transformers>=2.6.1->llama-index-embeddings-huggingface) (3.0.2)\n",
      "Requirement already satisfied: mpmath<1.4,>=1.1.0 in /Users/sangwoo/Desktop/PYTHON BASIC/LLAMA_INDEX/LlamaIndex_Codes/llamaindex_env/lib/python3.11/site-packages (from sympy->torch>=1.11.0->sentence-transformers>=2.6.1->llama-index-embeddings-huggingface) (1.3.0)\n",
      "Note: you may need to restart the kernel to use updated packages.\n"
     ]
    }
   ],
   "source": [
    "%pip install llama-index-embeddings-huggingface"
   ]
  },
  {
   "cell_type": "code",
   "execution_count": 2,
   "metadata": {},
   "outputs": [
    {
     "data": {
      "text/plain": [
       "True"
      ]
     },
     "execution_count": 2,
     "metadata": {},
     "output_type": "execute_result"
    }
   ],
   "source": [
    "from llama_index.core import Settings, VectorStoreIndex, SimpleDirectoryReader\n",
    "from llama_index.embeddings.huggingface import HuggingFaceEmbedding\n",
    "from llama_index.llms.ollama import Ollama\n",
    "\n",
    "# 환경 변수 설정\n",
    "import os\n",
    "from dotenv import load_dotenv\n",
    "\n",
    "load_dotenv()"
   ]
  },
  {
   "cell_type": "code",
   "execution_count": 8,
   "metadata": {},
   "outputs": [],
   "source": [
    "# Ollama LLM 설정\n",
    "llm = Ollama(\n",
    "    model=\"llama3.2:3b\",  # Ollama에서 제공하는 Llama2 3B 모델\n",
    "    temperature=0.1,  # 응답의 창의성 조절 (0에 가까울수록 일관된 응답)\n",
    "    context_window=4096,  # 컨텍스트 윈도우 크기\n",
    "    timeout=120,  # 타임아웃 시간을 120초로 설정\n",
    "    request_timeout=120,  # 요청 타임아웃도 120초로 설정\n",
    "    additional_kwargs={  # 추가 파라미터\n",
    "        \"num_gpu\": 0,  # CPU 사용 설정\n",
    "        \"seed\": 42,  # 재현성을 위한 시드 설정\n",
    "    },\n",
    ")\n",
    "\n",
    "# BGE 임베딩 모델 설정\n",
    "embed_model = HuggingFaceEmbedding(\n",
    "    model_name=\"BAAI/bge-large-zh\", device=\"cpu\"  # CPU 사용. GPU의 경우 \"cuda\"\n",
    ")"
   ]
  },
  {
   "cell_type": "code",
   "execution_count": 5,
   "metadata": {},
   "outputs": [],
   "source": [
    "# ServiceContext 설정\n",
    "Settings.llm = llm\n",
    "Settings.embed_model = embed_model\n",
    "\n",
    "# PDF 문서 로드\n",
    "documents = SimpleDirectoryReader(\n",
    "    input_files=[\n",
    "        \"/Users/sangwoo/Desktop/PYTHON BASIC/LLAMA_INDEX/LlamaIndex_Codes/data/240828_(AI리포트)_미국의_인공지능(AI)_정책,전략.pdf\"\n",
    "    ],\n",
    "    filename_as_id=True,\n",
    ").load_data()"
   ]
  },
  {
   "cell_type": "code",
   "execution_count": 6,
   "metadata": {},
   "outputs": [],
   "source": [
    "# 인덱스 생성\n",
    "index = VectorStoreIndex.from_documents(documents)\n",
    "\n",
    "# 쿼리 엔진 생성\n",
    "query_engine = index.as_query_engine(\n",
    "    streaming=True,  # 스트리밍 응답 활성화\n",
    "    similarity_top_k=3,  # 상위 3개의 가장 관련성 높은 문서 청크 사용\n",
    ")"
   ]
  },
  {
   "cell_type": "code",
   "execution_count": 10,
   "metadata": {},
   "outputs": [
    {
     "name": "stdout",
     "output_type": "stream",
     "text": [
      "오픈AI와 앤솔로픽(Anthropic)이 미국 상무부 산하 국립표준기술연구소(NIST)에 설치된 AI안전연구소(USAISI)와 계약을 체결하여, AI 기술의 안전하고 윤리적인 이용을 둘러싸고 규제당국의 엄격한 감시를 받는 상황으로, 그 사람이 미국의 리더십을 명확히 하는 데 중요한 역할을 하고 있다고 말한 사람은 오픈AI와 앤솔로픽(Anthropic)의 대표인 것으로 보인다.\n"
     ]
    }
   ],
   "source": [
    "# 질문하기\n",
    "response = query_engine.query(\n",
    "    \"\"\"\n",
    "    책임 있는 AI 개발에서 미국의 리더십을 명확히 하는 데 \n",
    "    AI안전 연구소가 맡은 중요한 역할이 있다고 생각한다고 말한 사람과 \n",
    "    그 사람이 누구와 협력한다고 했는지 알려줘\n",
    "    \"\"\"\n",
    ")\n",
    "print(response)"
   ]
  }
 ],
 "metadata": {
  "kernelspec": {
   "display_name": "llamaindex_env",
   "language": "python",
   "name": "python3"
  },
  "language_info": {
   "codemirror_mode": {
    "name": "ipython",
    "version": 3
   },
   "file_extension": ".py",
   "mimetype": "text/x-python",
   "name": "python",
   "nbconvert_exporter": "python",
   "pygments_lexer": "ipython3",
   "version": "3.11.9"
  }
 },
 "nbformat": 4,
 "nbformat_minor": 2
}
