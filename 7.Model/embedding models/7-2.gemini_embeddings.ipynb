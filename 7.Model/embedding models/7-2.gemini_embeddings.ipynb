{
 "cells": [
  {
   "cell_type": "code",
   "execution_count": null,
   "metadata": {},
   "outputs": [],
   "source": [
    "!pip install llama-index-embeddings-gemini"
   ]
  },
  {
   "cell_type": "code",
   "execution_count": null,
   "metadata": {},
   "outputs": [],
   "source": [
    "import os\n",
    "\n",
    "from dotenv import load_dotenv\n",
    "\n",
    "load_dotenv()"
   ]
  },
  {
   "cell_type": "code",
   "execution_count": null,
   "metadata": {},
   "outputs": [],
   "source": []
  },
  {
   "cell_type": "code",
   "execution_count": null,
   "metadata": {},
   "outputs": [],
   "source": [
    "# 1. Gemini 임베딩 모델 임포트\n",
    "from llama_index.embeddings.gemini import GeminiEmbedding\n",
    "\n",
    "# 2. Gemini 임베딩 모델 설정\n",
    "model_name = \"models/text-embedding-004\"  # Gemini의 텍스트 임베딩 모델\n",
    "\n",
    "# 3. 임베딩 모델 인스턴스 생성\n",
    "embed_model = GeminiEmbedding(\n",
    "    model_name=model_name,  # 사용할 모델 이름\n",
    "    api_key=GOOGLE_API_KEY,  # Google API 키\n",
    "    title=\"this is a document\",  # 문서 제목 (선택사항)\n",
    ")\n",
    "\n",
    "# 4. 텍스트를 벡터로 변환\n",
    "embeddings = embed_model.get_text_embedding(\"Google Gemini Embeddings.\")\n",
    "\n",
    "# 5. 결과 출력\n",
    "print(f\"Dimension of embeddings: {len(embeddings)}\")\n",
    "print(embeddings[:5])"
   ]
  }
 ],
 "metadata": {
  "kernelspec": {
   "display_name": "llamaindex_env",
   "language": "python",
   "name": "python3"
  },
  "language_info": {
   "codemirror_mode": {
    "name": "ipython",
    "version": 3
   },
   "file_extension": ".py",
   "mimetype": "text/x-python",
   "name": "python",
   "nbconvert_exporter": "python",
   "pygments_lexer": "ipython3",
   "version": "3.11.9"
  }
 },
 "nbformat": 4,
 "nbformat_minor": 2
}
