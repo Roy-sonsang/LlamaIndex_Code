{
 "cells": [
  {
   "cell_type": "code",
   "execution_count": null,
   "metadata": {},
   "outputs": [],
   "source": [
    "!pip install llama-index-embeddings-ollama"
   ]
  },
  {
   "cell_type": "code",
   "execution_count": null,
   "metadata": {},
   "outputs": [],
   "source": [
    "from llama_index.embeddings.ollama import OllamaEmbedding\n",
    "\n",
    "ollama_embedding = OllamaEmbedding(\n",
    "    model_name=\"llama2\",\n",
    "    base_url=\"http://localhost:11434\",\n",
    "    ollama_additional_kwargs={\"mirostat\": 0},\n",
    ")\n",
    "\n",
    "pass_embedding = ollama_embedding.get_text_embedding_batch(\n",
    "    [\"This is a passage!\", \"This is another passage\"], show_progress=True\n",
    ")\n",
    "print(pass_embedding)\n",
    "\n",
    "query_embedding = ollama_embedding.get_query_embedding(\"Where is blue?\")\n",
    "print(query_embedding)"
   ]
  }
 ],
 "metadata": {
  "language_info": {
   "name": "python"
  }
 },
 "nbformat": 4,
 "nbformat_minor": 2
}
