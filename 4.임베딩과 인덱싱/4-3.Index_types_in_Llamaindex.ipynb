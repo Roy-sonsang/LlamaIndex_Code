{
 "cells": [
  {
   "cell_type": "markdown",
   "metadata": {},
   "source": [
    "Data 로드"
   ]
  },
  {
   "cell_type": "code",
   "execution_count": 12,
   "metadata": {},
   "outputs": [
    {
     "name": "stdout",
     "output_type": "stream",
     "text": [
      "[Document(id_='a8d70f29-fcc6-4cdb-b3db-52523ec45b9b', embedding=None, metadata={'file_path': '/Users/sangwoo/Desktop/PYTHON BASIC/LLAMA_INDEX/LlamaIndex_Codes/4.임베딩과 인덱싱/../data/txt_example.txt', 'file_name': 'txt_example.txt', 'file_type': 'text/plain', 'file_size': 1527, 'creation_date': '2024-12-01', 'last_modified_date': '2024-12-01'}, excluded_embed_metadata_keys=['file_name', 'file_type', 'file_size', 'creation_date', 'last_modified_date', 'last_accessed_date'], excluded_llm_metadata_keys=['file_name', 'file_type', 'file_size', 'creation_date', 'last_modified_date', 'last_accessed_date'], relationships={}, text='인공지능(AI)의 개요와 주요 분야\\n\\n1. 인공지능의 정의\\n인공지능은 인간의 학습능력과 추론능력, 지각능력, 자연언어의 이해능력 등을 컴퓨터 프로그램으로 실현한 기술입니다. 현대 사회에서 인공지능은 다양한 분야에서 혁신을 이끌고 있습니다.\\n\\n2. 머신러닝\\n머신러닝은 인공지능의 한 분야로, 데이터로부터 패턴을 학습하여 의사결정을 내리는 기술입니다. 머신러닝은 지도학습, 비지도학습, 강화학습으로 구분됩니다.\\n- 지도학습: 레이블이 있는 데이터를 사용하여 학습\\n- 비지도학습: 레이블이 없는 데이터에서 패턴을 발견\\n- 강화학습: 환경과의 상호작용을 통해 학습\\n\\n3. 딥러닝\\n딥러닝은 머신러닝의 하위 분야로, 인간의 뇌를 모방한 인공신경망을 사용합니다. 특히 다음 분야에서 뛰어난 성능을 보입니다:\\n- 컴퓨터 비전\\n- 자연어 처리\\n- 음성 인식\\n\\n4. 인공지능의 응용 분야\\n인공지능은 다양한 산업 분야에서 활용되고 있습니다:\\n- 의료: 질병 진단, 신약 개발\\n- 금융: 주식 거래, 사기 탐지\\n- 자율주행: 차량 제어, 환경 인식\\n- 교육: 개인화 학습, 학습자 분석\\n\\n5. 인공지능의 미래\\n인공지능 기술은 계속해서 발전하고 있으며, 앞으로 다음과 같은 분야에서 더 큰 혁신이 예상됩니다:\\n- 범용 인공지능(AGI) 개발\\n- 인간-AI 협력 시스템\\n- 윤리적 AI 프레임워크', mimetype='text/plain', start_char_idx=None, end_char_idx=None, text_template='{metadata_str}\\n\\n{content}', metadata_template='{key}: {value}', metadata_seperator='\\n')]\n"
     ]
    }
   ],
   "source": [
    "from llama_index.core import SimpleDirectoryReader\n",
    "\n",
    "# 문서 로드\n",
    "documents = SimpleDirectoryReader(\"../data\", required_exts=[\".txt\"]).load_data()\n",
    "\n",
    "# 문서 출력\n",
    "print(documents)"
   ]
  },
  {
   "cell_type": "markdown",
   "metadata": {},
   "source": [
    "SummaryIndex"
   ]
  },
  {
   "cell_type": "code",
   "execution_count": 14,
   "metadata": {},
   "outputs": [
    {
     "name": "stdout",
     "output_type": "stream",
     "text": [
      "=== SummaryIndex 예시 ===\n",
      "인공지능의 정의와 주요 분야, 머신러닝과 딥러닝의 개념, 그리고 인공지능의 응용 분야와 미래 전망에 대한 내용을 다루고 있습니다.\n"
     ]
    }
   ],
   "source": [
    "from llama_index.core import SummaryIndex\n",
    "\n",
    "# SummaryIndex 생성\n",
    "summary_index = SummaryIndex.from_documents(documents)\n",
    "query_engine = summary_index.as_query_engine()\n",
    "response = query_engine.query(\"전체 문서의 주요 내용을 한글로 요약해주세요\")\n",
    "\n",
    "print(\"=== SummaryIndex 예시 ===\")\n",
    "print(response)"
   ]
  },
  {
   "cell_type": "code",
   "execution_count": 18,
   "metadata": {},
   "outputs": [
    {
     "name": "stdout",
     "output_type": "stream",
     "text": [
      "IndexList(index_id='e73e0b40-17ec-4012-8327-08cb49be16a1', summary=None, nodes=['fa270215-016b-4b6b-9f02-faccc983e3ef'])\n"
     ]
    }
   ],
   "source": [
    "# summary_index 내용 출력\n",
    "print(summary_index.index_struct)"
   ]
  },
  {
   "cell_type": "markdown",
   "metadata": {},
   "source": [
    "KeywordTableIndex"
   ]
  },
  {
   "cell_type": "code",
   "execution_count": 17,
   "metadata": {},
   "outputs": [
    {
     "name": "stdout",
     "output_type": "stream",
     "text": [
      "=== KeywordTableIndex 예시 ===\n",
      "딥러닝은 머신러닝의 하위 분야로, 인간의 뇌를 모방한 인공신경망을 사용합니다. 특히 다음 분야에서 뛰어난 성능을 보입니다: 컴퓨터 비전, 자연어 처리, 음성 인식.\n"
     ]
    }
   ],
   "source": [
    "from llama_index.core import KeywordTableIndex\n",
    "\n",
    "# KeywordTableIndex 생성\n",
    "keyword_index = KeywordTableIndex.from_documents(documents)\n",
    "query_engine = keyword_index.as_query_engine()\n",
    "response = query_engine.query(\n",
    "    \"딥러닝이라는 키워드가 포함된 내용을 찾고 한글로 대답해주세요\"\n",
    ")\n",
    "\n",
    "print(\"=== KeywordTableIndex 예시 ===\")\n",
    "print(response)"
   ]
  },
  {
   "cell_type": "markdown",
   "metadata": {},
   "source": [
    "TreeIndex"
   ]
  },
  {
   "cell_type": "code",
   "execution_count": 9,
   "metadata": {},
   "outputs": [
    {
     "name": "stdout",
     "output_type": "stream",
     "text": [
      "<llama_index.core.indices.tree.base.TreeIndex object at 0x115a7ab10>\n",
      "IndexGraph(index_id='b77305b0-3966-4423-81e4-c3124f86e6c2', summary=None, all_nodes={0: '3b687359-6087-4d2d-b218-99d8fab558d0'}, root_nodes={0: '3b687359-6087-4d2d-b218-99d8fab558d0'}, node_id_to_children_ids={'3b687359-6087-4d2d-b218-99d8fab558d0': []})\n"
     ]
    }
   ],
   "source": [
    "from llama_index.core import TreeIndex\n",
    "\n",
    "# TreeIndex 생성\n",
    "tree_index = TreeIndex.from_documents(documents)\n",
    "\n",
    "query_engine = tree_index.as_query_engine()\n",
    "response = query_engine.query(\"딥러닝이라는 키워드가 포함된 내용을 찾고 한글로 대답해주세요\")\n",
    "\n",
    "print(\"=== TreeIndex 예시 ===\")\n",
    "print(response)\n",
    "\n",
    "# TreeIndex 안의 내용 출력\n",
    "print(tree_index.index_struct)"
   ]
  },
  {
   "cell_type": "markdown",
   "metadata": {},
   "source": [
    "KnowledgeGraphIndex"
   ]
  },
  {
   "cell_type": "code",
   "execution_count": 10,
   "metadata": {},
   "outputs": [
    {
     "name": "stdout",
     "output_type": "stream",
     "text": [
      "<llama_index.core.indices.knowledge_graph.base.KnowledgeGraphIndex object at 0x1114ff7d0>\n",
      "KG(index_id='c3f1ecac-413d-4577-984e-b1eeb1fed412', summary=None, table={'Node': {'0125bba5-d79f-41ad-9782-815ff0b22f8d'}, 'Small document fragment': {'0125bba5-d79f-41ad-9782-815ff0b22f8d'}, 'Divided from large document': {'0125bba5-d79f-41ad-9782-815ff0b22f8d'}, 'Similar to dividing a long book into multiple cards': {'0125bba5-d79f-41ad-9782-815ff0b22f8d'}, 'Useful for ai to find and understand information': {'0125bba5-d79f-41ad-9782-815ff0b22f8d'}, 'More effectively utilized when divided into small fragments': {'0125bba5-d79f-41ad-9782-815ff0b22f8d'}, 'Appropriate size': {'0125bba5-d79f-41ad-9782-815ff0b22f8d'}, 'Context': {'0125bba5-d79f-41ad-9782-815ff0b22f8d'}, 'Relationships with original document': {'0125bba5-d79f-41ad-9782-815ff0b22f8d'}, 'Metadata': {'0125bba5-d79f-41ad-9782-815ff0b22f8d'}}, rel_map={}, embedding_dict={})\n"
     ]
    }
   ],
   "source": [
    "from llama_index.core import KnowledgeGraphIndex\n",
    "\n",
    "# KnowledgeGraphIndex 생성\n",
    "knowledge_graph_index = KnowledgeGraphIndex.from_documents(documents)\n",
    "\n",
    "# KnowledgeGraphIndex 출력\n",
    "print(knowledge_graph_index)\n",
    "# 안의 내용 출력\n",
    "print(knowledge_graph_index.index_struct)"
   ]
  }
 ],
 "metadata": {
  "kernelspec": {
   "display_name": "llamaindex_env",
   "language": "python",
   "name": "python3"
  },
  "language_info": {
   "codemirror_mode": {
    "name": "ipython",
    "version": 3
   },
   "file_extension": ".py",
   "mimetype": "text/x-python",
   "name": "python",
   "nbconvert_exporter": "python",
   "pygments_lexer": "ipython3",
   "version": "3.11.9"
  }
 },
 "nbformat": 4,
 "nbformat_minor": 2
}
