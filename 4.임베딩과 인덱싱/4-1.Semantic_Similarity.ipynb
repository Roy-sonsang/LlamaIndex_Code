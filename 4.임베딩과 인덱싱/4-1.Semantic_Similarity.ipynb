{
 "cells": [
  {
   "cell_type": "markdown",
   "metadata": {},
   "source": [
    "이 코드는 SemanticSimilarityEvaluator를 사용하여 두 텍스트 간의 의미적 유사도를 평가하는 방법을 보여줍니다.\n"
   ]
  },
  {
   "cell_type": "code",
   "execution_count": null,
   "metadata": {},
   "outputs": [],
   "source": [
    "pip install llama-index-embeddings-openai"
   ]
  },
  {
   "cell_type": "code",
   "execution_count": 1,
   "metadata": {},
   "outputs": [
    {
     "data": {
      "text/plain": [
       "True"
      ]
     },
     "execution_count": 1,
     "metadata": {},
     "output_type": "execute_result"
    }
   ],
   "source": [
    "# dotenv 파일 로드\n",
    "from dotenv import load_dotenv\n",
    "\n",
    "load_dotenv()"
   ]
  },
  {
   "cell_type": "code",
   "execution_count": 2,
   "metadata": {},
   "outputs": [],
   "source": [
    "# 비동기 처리 문제 해결\n",
    "import nest_asyncio\n",
    "\n",
    "nest_asyncio.apply()"
   ]
  },
  {
   "cell_type": "code",
   "execution_count": 5,
   "metadata": {},
   "outputs": [],
   "source": [
    "from llama_index.core.evaluation import SemanticSimilarityEvaluator\n",
    "\n",
    "# SemanticSimilarityEvaluator의 인스턴스 생성\n",
    "evaluator = SemanticSimilarityEvaluator()\n",
    "\n",
    "sentence1 = \"\"\"요가는 신체와 마음 모두에게 다양한 이점을 제공합니다. \n",
    "유연성, 근력, 균형감을 향상시키는 동시에 스트레스, 불안, 통증을 줄여줍니다. \n",
    "요가는 또한 숙면, 심장 건강, 전반적인 웰빙을 증진시킵니다.\n",
    "운동이나 스트레스 해소 방법을 찾고 있다면, 요가가 좋은 선택이 될 수 있습니다.\"\"\"\n",
    "\n",
    "sentence2 = \"\"\"Yoga provides various benefits for both body and mind.\n",
    "It improves flexibility, strength, and balance while reducing stress, anxiety, and pain.\n",
    "Yoga also enhances sleep quality, heart health, and overall well-being.\n",
    "If you're looking for exercise or a way to relieve stress, yoga can be a great choice.\"\"\"\n",
    "\n",
    "# evaluate 함수는 점수와 통과 여부를 포함하는 딕셔너리를 반환합니다\n",
    "result = evaluator.evaluate(\n",
    "    response=sentence1,\n",
    "    reference=sentence2,\n",
    ")"
   ]
  },
  {
   "cell_type": "code",
   "execution_count": 6,
   "metadata": {},
   "outputs": [
    {
     "name": "stdout",
     "output_type": "stream",
     "text": [
      "유사도 점수:  0.8383297959571465\n",
      "통과 여부:  True\n"
     ]
    }
   ],
   "source": [
    "print(\"유사도 점수: \", result.score)\n",
    "print(\"통과 여부: \", result.passing)  # 기본 유사도 임계값은 0.8입니다"
   ]
  }
 ],
 "metadata": {
  "kernelspec": {
   "display_name": "llamaindex_env",
   "language": "python",
   "name": "python3"
  },
  "language_info": {
   "codemirror_mode": {
    "name": "ipython",
    "version": 3
   },
   "file_extension": ".py",
   "mimetype": "text/x-python",
   "name": "python",
   "nbconvert_exporter": "python",
   "pygments_lexer": "ipython3",
   "version": "3.11.9"
  }
 },
 "nbformat": 4,
 "nbformat_minor": 2
}
