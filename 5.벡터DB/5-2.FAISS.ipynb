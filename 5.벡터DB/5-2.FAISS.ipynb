{
 "cells": [
  {
   "cell_type": "code",
   "execution_count": 2,
   "metadata": {},
   "outputs": [
    {
     "name": "stdout",
     "output_type": "stream",
     "text": [
      "Collecting faiss-cpu\n",
      "  Using cached faiss_cpu-1.9.0-cp311-cp311-macosx_10_14_x86_64.whl.metadata (4.4 kB)\n",
      "Collecting llama-index-vector-stores-faiss\n",
      "  Downloading llama_index_vector_stores_faiss-0.2.1-py3-none-any.whl.metadata (609 bytes)\n",
      "Requirement already satisfied: numpy<3.0,>=1.25.0 in /Users/sangwoo/Desktop/PYTHON BASIC/LLAMA_INDEX/LlamaIndex_Codes/llamaindex_env/lib/python3.11/site-packages (from faiss-cpu) (1.26.4)\n",
      "Requirement already satisfied: packaging in /Users/sangwoo/Desktop/PYTHON BASIC/LLAMA_INDEX/LlamaIndex_Codes/llamaindex_env/lib/python3.11/site-packages (from faiss-cpu) (24.1)\n",
      "Requirement already satisfied: llama-index-core<0.12.0,>=0.11.0 in /Users/sangwoo/Desktop/PYTHON BASIC/LLAMA_INDEX/LlamaIndex_Codes/llamaindex_env/lib/python3.11/site-packages (from llama-index-vector-stores-faiss) (0.11.21)\n",
      "Requirement already satisfied: PyYAML>=6.0.1 in /Users/sangwoo/Desktop/PYTHON BASIC/LLAMA_INDEX/LlamaIndex_Codes/llamaindex_env/lib/python3.11/site-packages (from llama-index-core<0.12.0,>=0.11.0->llama-index-vector-stores-faiss) (6.0.2)\n",
      "Requirement already satisfied: SQLAlchemy>=1.4.49 in /Users/sangwoo/Desktop/PYTHON BASIC/LLAMA_INDEX/LlamaIndex_Codes/llamaindex_env/lib/python3.11/site-packages (from SQLAlchemy[asyncio]>=1.4.49->llama-index-core<0.12.0,>=0.11.0->llama-index-vector-stores-faiss) (2.0.36)\n",
      "Requirement already satisfied: aiohttp<4.0.0,>=3.8.6 in /Users/sangwoo/Desktop/PYTHON BASIC/LLAMA_INDEX/LlamaIndex_Codes/llamaindex_env/lib/python3.11/site-packages (from llama-index-core<0.12.0,>=0.11.0->llama-index-vector-stores-faiss) (3.10.10)\n",
      "Requirement already satisfied: dataclasses-json in /Users/sangwoo/Desktop/PYTHON BASIC/LLAMA_INDEX/LlamaIndex_Codes/llamaindex_env/lib/python3.11/site-packages (from llama-index-core<0.12.0,>=0.11.0->llama-index-vector-stores-faiss) (0.6.7)\n",
      "Requirement already satisfied: deprecated>=1.2.9.3 in /Users/sangwoo/Desktop/PYTHON BASIC/LLAMA_INDEX/LlamaIndex_Codes/llamaindex_env/lib/python3.11/site-packages (from llama-index-core<0.12.0,>=0.11.0->llama-index-vector-stores-faiss) (1.2.14)\n",
      "Requirement already satisfied: dirtyjson<2.0.0,>=1.0.8 in /Users/sangwoo/Desktop/PYTHON BASIC/LLAMA_INDEX/LlamaIndex_Codes/llamaindex_env/lib/python3.11/site-packages (from llama-index-core<0.12.0,>=0.11.0->llama-index-vector-stores-faiss) (1.0.8)\n",
      "Requirement already satisfied: fsspec>=2023.5.0 in /Users/sangwoo/Desktop/PYTHON BASIC/LLAMA_INDEX/LlamaIndex_Codes/llamaindex_env/lib/python3.11/site-packages (from llama-index-core<0.12.0,>=0.11.0->llama-index-vector-stores-faiss) (2024.10.0)\n",
      "Requirement already satisfied: httpx in /Users/sangwoo/Desktop/PYTHON BASIC/LLAMA_INDEX/LlamaIndex_Codes/llamaindex_env/lib/python3.11/site-packages (from llama-index-core<0.12.0,>=0.11.0->llama-index-vector-stores-faiss) (0.27.2)\n",
      "Requirement already satisfied: nest-asyncio<2.0.0,>=1.5.8 in /Users/sangwoo/Desktop/PYTHON BASIC/LLAMA_INDEX/LlamaIndex_Codes/llamaindex_env/lib/python3.11/site-packages (from llama-index-core<0.12.0,>=0.11.0->llama-index-vector-stores-faiss) (1.6.0)\n",
      "Requirement already satisfied: networkx>=3.0 in /Users/sangwoo/Desktop/PYTHON BASIC/LLAMA_INDEX/LlamaIndex_Codes/llamaindex_env/lib/python3.11/site-packages (from llama-index-core<0.12.0,>=0.11.0->llama-index-vector-stores-faiss) (3.4.2)\n",
      "Requirement already satisfied: nltk>3.8.1 in /Users/sangwoo/Desktop/PYTHON BASIC/LLAMA_INDEX/LlamaIndex_Codes/llamaindex_env/lib/python3.11/site-packages (from llama-index-core<0.12.0,>=0.11.0->llama-index-vector-stores-faiss) (3.9.1)\n",
      "Requirement already satisfied: pillow>=9.0.0 in /Users/sangwoo/Desktop/PYTHON BASIC/LLAMA_INDEX/LlamaIndex_Codes/llamaindex_env/lib/python3.11/site-packages (from llama-index-core<0.12.0,>=0.11.0->llama-index-vector-stores-faiss) (11.0.0)\n",
      "Requirement already satisfied: pydantic<3.0.0,>=2.7.0 in /Users/sangwoo/Desktop/PYTHON BASIC/LLAMA_INDEX/LlamaIndex_Codes/llamaindex_env/lib/python3.11/site-packages (from llama-index-core<0.12.0,>=0.11.0->llama-index-vector-stores-faiss) (2.9.2)\n",
      "Requirement already satisfied: requests>=2.31.0 in /Users/sangwoo/Desktop/PYTHON BASIC/LLAMA_INDEX/LlamaIndex_Codes/llamaindex_env/lib/python3.11/site-packages (from llama-index-core<0.12.0,>=0.11.0->llama-index-vector-stores-faiss) (2.32.3)\n",
      "Requirement already satisfied: tenacity!=8.4.0,<9.0.0,>=8.2.0 in /Users/sangwoo/Desktop/PYTHON BASIC/LLAMA_INDEX/LlamaIndex_Codes/llamaindex_env/lib/python3.11/site-packages (from llama-index-core<0.12.0,>=0.11.0->llama-index-vector-stores-faiss) (8.5.0)\n",
      "Requirement already satisfied: tiktoken>=0.3.3 in /Users/sangwoo/Desktop/PYTHON BASIC/LLAMA_INDEX/LlamaIndex_Codes/llamaindex_env/lib/python3.11/site-packages (from llama-index-core<0.12.0,>=0.11.0->llama-index-vector-stores-faiss) (0.8.0)\n",
      "Requirement already satisfied: tqdm<5.0.0,>=4.66.1 in /Users/sangwoo/Desktop/PYTHON BASIC/LLAMA_INDEX/LlamaIndex_Codes/llamaindex_env/lib/python3.11/site-packages (from llama-index-core<0.12.0,>=0.11.0->llama-index-vector-stores-faiss) (4.66.6)\n",
      "Requirement already satisfied: typing-extensions>=4.5.0 in /Users/sangwoo/Desktop/PYTHON BASIC/LLAMA_INDEX/LlamaIndex_Codes/llamaindex_env/lib/python3.11/site-packages (from llama-index-core<0.12.0,>=0.11.0->llama-index-vector-stores-faiss) (4.12.2)\n",
      "Requirement already satisfied: typing-inspect>=0.8.0 in /Users/sangwoo/Desktop/PYTHON BASIC/LLAMA_INDEX/LlamaIndex_Codes/llamaindex_env/lib/python3.11/site-packages (from llama-index-core<0.12.0,>=0.11.0->llama-index-vector-stores-faiss) (0.9.0)\n",
      "Requirement already satisfied: wrapt in /Users/sangwoo/Desktop/PYTHON BASIC/LLAMA_INDEX/LlamaIndex_Codes/llamaindex_env/lib/python3.11/site-packages (from llama-index-core<0.12.0,>=0.11.0->llama-index-vector-stores-faiss) (1.16.0)\n",
      "Requirement already satisfied: aiohappyeyeballs>=2.3.0 in /Users/sangwoo/Desktop/PYTHON BASIC/LLAMA_INDEX/LlamaIndex_Codes/llamaindex_env/lib/python3.11/site-packages (from aiohttp<4.0.0,>=3.8.6->llama-index-core<0.12.0,>=0.11.0->llama-index-vector-stores-faiss) (2.4.3)\n",
      "Requirement already satisfied: aiosignal>=1.1.2 in /Users/sangwoo/Desktop/PYTHON BASIC/LLAMA_INDEX/LlamaIndex_Codes/llamaindex_env/lib/python3.11/site-packages (from aiohttp<4.0.0,>=3.8.6->llama-index-core<0.12.0,>=0.11.0->llama-index-vector-stores-faiss) (1.3.1)\n",
      "Requirement already satisfied: attrs>=17.3.0 in /Users/sangwoo/Desktop/PYTHON BASIC/LLAMA_INDEX/LlamaIndex_Codes/llamaindex_env/lib/python3.11/site-packages (from aiohttp<4.0.0,>=3.8.6->llama-index-core<0.12.0,>=0.11.0->llama-index-vector-stores-faiss) (24.2.0)\n",
      "Requirement already satisfied: frozenlist>=1.1.1 in /Users/sangwoo/Desktop/PYTHON BASIC/LLAMA_INDEX/LlamaIndex_Codes/llamaindex_env/lib/python3.11/site-packages (from aiohttp<4.0.0,>=3.8.6->llama-index-core<0.12.0,>=0.11.0->llama-index-vector-stores-faiss) (1.5.0)\n",
      "Requirement already satisfied: multidict<7.0,>=4.5 in /Users/sangwoo/Desktop/PYTHON BASIC/LLAMA_INDEX/LlamaIndex_Codes/llamaindex_env/lib/python3.11/site-packages (from aiohttp<4.0.0,>=3.8.6->llama-index-core<0.12.0,>=0.11.0->llama-index-vector-stores-faiss) (6.1.0)\n",
      "Requirement already satisfied: yarl<2.0,>=1.12.0 in /Users/sangwoo/Desktop/PYTHON BASIC/LLAMA_INDEX/LlamaIndex_Codes/llamaindex_env/lib/python3.11/site-packages (from aiohttp<4.0.0,>=3.8.6->llama-index-core<0.12.0,>=0.11.0->llama-index-vector-stores-faiss) (1.17.1)\n",
      "Requirement already satisfied: click in /Users/sangwoo/Desktop/PYTHON BASIC/LLAMA_INDEX/LlamaIndex_Codes/llamaindex_env/lib/python3.11/site-packages (from nltk>3.8.1->llama-index-core<0.12.0,>=0.11.0->llama-index-vector-stores-faiss) (8.1.7)\n",
      "Requirement already satisfied: joblib in /Users/sangwoo/Desktop/PYTHON BASIC/LLAMA_INDEX/LlamaIndex_Codes/llamaindex_env/lib/python3.11/site-packages (from nltk>3.8.1->llama-index-core<0.12.0,>=0.11.0->llama-index-vector-stores-faiss) (1.4.2)\n",
      "Requirement already satisfied: regex>=2021.8.3 in /Users/sangwoo/Desktop/PYTHON BASIC/LLAMA_INDEX/LlamaIndex_Codes/llamaindex_env/lib/python3.11/site-packages (from nltk>3.8.1->llama-index-core<0.12.0,>=0.11.0->llama-index-vector-stores-faiss) (2024.9.11)\n",
      "Requirement already satisfied: annotated-types>=0.6.0 in /Users/sangwoo/Desktop/PYTHON BASIC/LLAMA_INDEX/LlamaIndex_Codes/llamaindex_env/lib/python3.11/site-packages (from pydantic<3.0.0,>=2.7.0->llama-index-core<0.12.0,>=0.11.0->llama-index-vector-stores-faiss) (0.7.0)\n",
      "Requirement already satisfied: pydantic-core==2.23.4 in /Users/sangwoo/Desktop/PYTHON BASIC/LLAMA_INDEX/LlamaIndex_Codes/llamaindex_env/lib/python3.11/site-packages (from pydantic<3.0.0,>=2.7.0->llama-index-core<0.12.0,>=0.11.0->llama-index-vector-stores-faiss) (2.23.4)\n",
      "Requirement already satisfied: charset-normalizer<4,>=2 in /Users/sangwoo/Desktop/PYTHON BASIC/LLAMA_INDEX/LlamaIndex_Codes/llamaindex_env/lib/python3.11/site-packages (from requests>=2.31.0->llama-index-core<0.12.0,>=0.11.0->llama-index-vector-stores-faiss) (3.4.0)\n",
      "Requirement already satisfied: idna<4,>=2.5 in /Users/sangwoo/Desktop/PYTHON BASIC/LLAMA_INDEX/LlamaIndex_Codes/llamaindex_env/lib/python3.11/site-packages (from requests>=2.31.0->llama-index-core<0.12.0,>=0.11.0->llama-index-vector-stores-faiss) (3.10)\n",
      "Requirement already satisfied: urllib3<3,>=1.21.1 in /Users/sangwoo/Desktop/PYTHON BASIC/LLAMA_INDEX/LlamaIndex_Codes/llamaindex_env/lib/python3.11/site-packages (from requests>=2.31.0->llama-index-core<0.12.0,>=0.11.0->llama-index-vector-stores-faiss) (2.2.3)\n",
      "Requirement already satisfied: certifi>=2017.4.17 in /Users/sangwoo/Desktop/PYTHON BASIC/LLAMA_INDEX/LlamaIndex_Codes/llamaindex_env/lib/python3.11/site-packages (from requests>=2.31.0->llama-index-core<0.12.0,>=0.11.0->llama-index-vector-stores-faiss) (2024.8.30)\n",
      "Requirement already satisfied: greenlet!=0.4.17 in /Users/sangwoo/Desktop/PYTHON BASIC/LLAMA_INDEX/LlamaIndex_Codes/llamaindex_env/lib/python3.11/site-packages (from SQLAlchemy>=1.4.49->SQLAlchemy[asyncio]>=1.4.49->llama-index-core<0.12.0,>=0.11.0->llama-index-vector-stores-faiss) (3.1.1)\n",
      "Requirement already satisfied: mypy-extensions>=0.3.0 in /Users/sangwoo/Desktop/PYTHON BASIC/LLAMA_INDEX/LlamaIndex_Codes/llamaindex_env/lib/python3.11/site-packages (from typing-inspect>=0.8.0->llama-index-core<0.12.0,>=0.11.0->llama-index-vector-stores-faiss) (1.0.0)\n",
      "Requirement already satisfied: marshmallow<4.0.0,>=3.18.0 in /Users/sangwoo/Desktop/PYTHON BASIC/LLAMA_INDEX/LlamaIndex_Codes/llamaindex_env/lib/python3.11/site-packages (from dataclasses-json->llama-index-core<0.12.0,>=0.11.0->llama-index-vector-stores-faiss) (3.23.1)\n",
      "Requirement already satisfied: anyio in /Users/sangwoo/Desktop/PYTHON BASIC/LLAMA_INDEX/LlamaIndex_Codes/llamaindex_env/lib/python3.11/site-packages (from httpx->llama-index-core<0.12.0,>=0.11.0->llama-index-vector-stores-faiss) (4.6.2.post1)\n",
      "Requirement already satisfied: httpcore==1.* in /Users/sangwoo/Desktop/PYTHON BASIC/LLAMA_INDEX/LlamaIndex_Codes/llamaindex_env/lib/python3.11/site-packages (from httpx->llama-index-core<0.12.0,>=0.11.0->llama-index-vector-stores-faiss) (1.0.6)\n",
      "Requirement already satisfied: sniffio in /Users/sangwoo/Desktop/PYTHON BASIC/LLAMA_INDEX/LlamaIndex_Codes/llamaindex_env/lib/python3.11/site-packages (from httpx->llama-index-core<0.12.0,>=0.11.0->llama-index-vector-stores-faiss) (1.3.1)\n",
      "Requirement already satisfied: h11<0.15,>=0.13 in /Users/sangwoo/Desktop/PYTHON BASIC/LLAMA_INDEX/LlamaIndex_Codes/llamaindex_env/lib/python3.11/site-packages (from httpcore==1.*->httpx->llama-index-core<0.12.0,>=0.11.0->llama-index-vector-stores-faiss) (0.14.0)\n",
      "Requirement already satisfied: propcache>=0.2.0 in /Users/sangwoo/Desktop/PYTHON BASIC/LLAMA_INDEX/LlamaIndex_Codes/llamaindex_env/lib/python3.11/site-packages (from yarl<2.0,>=1.12.0->aiohttp<4.0.0,>=3.8.6->llama-index-core<0.12.0,>=0.11.0->llama-index-vector-stores-faiss) (0.2.0)\n",
      "Using cached faiss_cpu-1.9.0-cp311-cp311-macosx_10_14_x86_64.whl (7.7 MB)\n",
      "Downloading llama_index_vector_stores_faiss-0.2.1-py3-none-any.whl (3.9 kB)\n",
      "Installing collected packages: faiss-cpu, llama-index-vector-stores-faiss\n",
      "Successfully installed faiss-cpu-1.9.0 llama-index-vector-stores-faiss-0.2.1\n",
      "Note: you may need to restart the kernel to use updated packages.\n"
     ]
    }
   ],
   "source": [
    "pip install faiss-cpu llama-index-vector-stores-faiss"
   ]
  },
  {
   "cell_type": "code",
   "execution_count": 13,
   "metadata": {},
   "outputs": [],
   "source": [
    "# 라마인덱스 패키지 임포트\n",
    "import faiss\n",
    "from llama_index.vector_stores.faiss import FaissVectorStore\n",
    "from llama_index.core import StorageContext\n",
    "from llama_index.llms.openai import OpenAI\n",
    "from llama_index.core import Settings\n",
    "from llama_index.core import VectorStoreIndex, SimpleDirectoryReader"
   ]
  },
  {
   "cell_type": "code",
   "execution_count": 14,
   "metadata": {},
   "outputs": [],
   "source": [
    "from dotenv import load_dotenv\n",
    "import os\n",
    "\n",
    "# .env 파일에서 환경 변수 로드\n",
    "load_dotenv()\n",
    "os.environ[\"OPENAI_API_KEY\"] = os.getenv(\"OPENAI_API_KEY\")"
   ]
  },
  {
   "cell_type": "code",
   "execution_count": 7,
   "metadata": {},
   "outputs": [],
   "source": [
    "# LLM 설정(OpenAI)\n",
    "Settings.llm = OpenAI(\n",
    "    temperature=0.5,\n",
    "    model=\"gpt-3.5-turbo\",\n",
    "    max_tokens=200,\n",
    "    context_window=4096,\n",
    ")"
   ]
  },
  {
   "cell_type": "code",
   "execution_count": 9,
   "metadata": {},
   "outputs": [
    {
     "name": "stderr",
     "output_type": "stream",
     "text": [
      "Ignoring wrong pointing object 6 0 (offset 0)\n",
      "Ignoring wrong pointing object 8 0 (offset 0)\n"
     ]
    }
   ],
   "source": [
    "# 데이터 로드 (pdf 파일 로드)\n",
    "documents = SimpleDirectoryReader(\"../data\", required_exts=[\".pdf\"]).load_data()"
   ]
  },
  {
   "cell_type": "code",
   "execution_count": 17,
   "metadata": {},
   "outputs": [],
   "source": [
    "# FAISS 인덱스 생성 (1536은 OpenAI 임베딩 차원)\n",
    "dimension = 1536\n",
    "faiss_index = faiss.IndexFlatL2(dimension)"
   ]
  },
  {
   "cell_type": "code",
   "execution_count": 18,
   "metadata": {},
   "outputs": [],
   "source": [
    "# FAISS를 LlamaIndex의 인덱싱 및 검색 파이프라인에 통합\n",
    "vector_store = FaissVectorStore(faiss_index=faiss_index)\n",
    "storage_context = StorageContext.from_defaults(vector_store=vector_store)\n",
    "\n",
    "# 문서 내용을 벡터 DB에 저장\n",
    "index = VectorStoreIndex.from_documents(documents, storage_context=storage_context)"
   ]
  },
  {
   "cell_type": "code",
   "execution_count": 19,
   "metadata": {},
   "outputs": [],
   "source": [
    "# (선택사항) FAISS 인덱스 저장\n",
    "faiss.write_index(faiss_index, \"faiss.index\")\n",
    "\n",
    "# (선택사항) FAISS 인덱스 로드\n",
    "# loaded_index = faiss.read_index(\"faiss.index\")"
   ]
  },
  {
   "cell_type": "code",
   "execution_count": 20,
   "metadata": {},
   "outputs": [
    {
     "name": "stdout",
     "output_type": "stream",
     "text": [
      "\n",
      "질문: 이 논문에서 제안하는 모델의 장점은 무엇인가요?\n",
      "답변: The advantages of the model proposed in this paper include providing accurate information based on reliable sources, utilizing up-to-date information, and being able to cite the sources of the information provided, which enhances the credibility of the answers.\n"
     ]
    }
   ],
   "source": [
    "# 쿼리 엔진 생성\n",
    "query_engine = index.as_query_engine()\n",
    "\n",
    "# 쿼리 실행\n",
    "query = \"이 논문에서 제안하는 모델의 장점은 무엇인가요?\"\n",
    "response = query_engine.query(query)\n",
    "\n",
    "# 응답 출력\n",
    "print(\"\\n질문:\", query)\n",
    "print(\"답변:\", response)"
   ]
  }
 ],
 "metadata": {
  "kernelspec": {
   "display_name": "llamaindex_env",
   "language": "python",
   "name": "python3"
  },
  "language_info": {
   "codemirror_mode": {
    "name": "ipython",
    "version": 3
   },
   "file_extension": ".py",
   "mimetype": "text/x-python",
   "name": "python",
   "nbconvert_exporter": "python",
   "pygments_lexer": "ipython3",
   "version": "3.11.9"
  }
 },
 "nbformat": 4,
 "nbformat_minor": 2
}
