{
 "cells": [
  {
   "cell_type": "markdown",
   "metadata": {},
   "source": [
    "### 1. Node 객체 직접 생성"
   ]
  },
  {
   "cell_type": "code",
   "execution_count": 16,
   "metadata": {},
   "outputs": [
    {
     "name": "stdout",
     "output_type": "stream",
     "text": [
      "Node ID: 4dbb9d45-8197-4e97-b63b-1b4072755cde\n",
      "Text: 인공지능은 우리의 미래를 변화시킬 것입니다.\n",
      "Node ID: b7e469a6-a8f8-4d52-a449-3aee07c28708\n",
      "Text: 이러한 변화에 우리는 준비되어 있어야 합니다.\n"
     ]
    }
   ],
   "source": [
    "from llama_index.core import Document\n",
    "from llama_index.core.schema import TextNode\n",
    "\n",
    "document = Document(\n",
    "    text=\"\"\"인공지능은 우리의 미래를 변화시킬 것입니다.\n",
    "                        이러한 변화에 우리는 준비되어 있어야 합니다.\"\"\"\n",
    ")\n",
    "\n",
    "# 문서를 두 개의 노드로 분할 (각 문장을 하나의 노드로)\n",
    "node1 = TextNode(text=document.text[:24], doc_id=document.id_)\n",
    "node2 = TextNode(text=document.text[25:], doc_id=document.id_)\n",
    "\n",
    "print(node1)\n",
    "print(node2)"
   ]
  },
  {
   "cell_type": "markdown",
   "metadata": {},
   "source": [
    "### 2. 문서를 불러와서 Document와 Node 객체 생성"
   ]
  },
  {
   "cell_type": "code",
   "execution_count": 19,
   "metadata": {},
   "outputs": [],
   "source": [
    "from llama_index.core import SimpleDirectoryReader\n",
    "from llama_index.core.node_parser import SentenceSplitter\n",
    "from llama_index.core.node_parser import SimpleNodeParser\n",
    "\n",
    "# docx 파일 로드 및 documents 변수에 저장\n",
    "documents = SimpleDirectoryReader(\"../data\", required_exts=[\".docx\"]).load_data()"
   ]
  },
  {
   "cell_type": "code",
   "execution_count": 27,
   "metadata": {},
   "outputs": [],
   "source": [
    "# SimpleNodeParser 사용\n",
    "parser = SimpleNodeParser.from_defaults(\n",
    "    chunk_size=200,\n",
    "    chunk_overlap=20 \n",
    ")\n",
    "\n",
    "nodes = parser.get_nodes_from_documents([documents[0]])"
   ]
  },
  {
   "cell_type": "code",
   "execution_count": 29,
   "metadata": {},
   "outputs": [
    {
     "name": "stdout",
     "output_type": "stream",
     "text": [
      "\n",
      "=== Node 1 ===\n",
      "Text: 제목: \"Node의 이해: AI의 정보 조각 만들기\"\n",
      "\n",
      "\n",
      "\n",
      "1. Node란 무엇일까요?\n",
      "\n",
      "Node는 큰 문서를 작은 조각으로 나눈 것입니다. 마치 긴 책을 여러 장의 카드로 나누어 정리하는 것과 비슷합니다. 예를 들어, 역사책 한 권을 시대별로 나누어 카드를 만드는 것처럼, 긴 문서를 여러 개의 Node로 나눕니다.\n",
      "\n",
      "=== Node 2 ===\n",
      "Text: 2. Node는 왜 필요할까요?\n",
      "\n",
      "큰 문서를 그대로 사용하면 AI가 정보를 찾고 이해하는 데 어려움이 있습니다. 마치 학생이 시험 공부를 할 때 두꺼운 교과서를 한 번에 읽는 것보다, 단원별로 나누어 공부하는 것이 더 효과적인 것처럼, AI도 작은 조각으로 나눈 정보를 더 잘 활용할 수 있습니다.\n",
      "\n",
      "=== Node 3 ===\n",
      "Text: 3. Node의 특징은 무엇일까요?\n",
      "\n",
      "- 적절한 크기: 한 Node는 AI가 한 번에 처리하기 좋은 크기로 만듭니다.\n",
      "\n",
      "- 문맥 유지: 내용이 잘리더라도 의미가 통하도록 적절히 나눕니다.\n",
      "\n",
      "- 관계 유지: 원본 문서와의 연결 정보를 보관합니다.\n",
      "\n",
      "- 메타데이터: 각 Node가 어디서 왔는지, 어떤 내용인지 알 수 있는 정보를 담습니다.\n",
      "\n",
      "=== Node 4 ===\n",
      "Text: 4. Node는 어떻게 만들어질까요?\n",
      "\n",
      "Node를 만드는 방법은 여러 가지가 있습니다:\n",
      "\n",
      "- 문장 단위로 나누기: 문장을 기준으로 나눕니다.\n",
      "\n",
      "- 단락 단위로 나누기: 내용이 바뀌는 단락을 기준으로 나눕니다.\n",
      "\n",
      "- 길이 기준으로 나누기: 일정한 길이를 기준으로 나눕니다.\n",
      "\n",
      "=== Node 5 ===\n",
      "Text: 5. Node의 활용\n",
      "\n",
      "Node는 다음과 같은 상황에서 유용하게 사용됩니다:\n",
      "\n",
      "- 정보 검색: 필요한 정보를 빠르게 찾을 수 있습니다.\n",
      "\n",
      "- 질문 답변: 관련된 Node만 활용하여 정확한 답변을 만듭니다.\n",
      "\n",
      "- 정보 요약: 여러 Node의 내용을 모아 요약할 수 있습니다.\n",
      "\n",
      "=== Node 6 ===\n",
      "Text: 6. Node 사용의 장점\n",
      "\n",
      "- 효율적인 검색: 작은 단위로 나누어져 있어 검색이 빠릅니다.\n",
      "\n",
      "- 정확한 답변: 필요한 부분만 정확하게 활용할 수 있습니다.\n",
      "\n",
      "- 메모리 효율: 필요한 Node만 메모리에 불러올 수 있습니다.\n"
     ]
    }
   ],
   "source": [
    "# Node 확인\n",
    "for i, node in enumerate(nodes):\n",
    "    print(f\"\\n=== Node {i+1} ===\")\n",
    "    print(f\"Text: {node.text}\")"
   ]
  },
  {
   "cell_type": "code",
   "execution_count": 25,
   "metadata": {},
   "outputs": [
    {
     "name": "stdout",
     "output_type": "stream",
     "text": [
      "Metadata: {'file_name': 'word_example.docx', 'file_path': '/Users/sangwoo/Desktop/PYTHON BASIC/LLAMA_INDEX/LlamaIndex_Codes/3. 데이터 로드/../data/word_example.docx', 'file_type': 'application/vnd.openxmlformats-officedocument.wordprocessingml.document', 'file_size': 15420, 'creation_date': '2024-11-01', 'last_modified_date': '2024-11-01'}\n"
     ]
    }
   ],
   "source": [
    "print(f\"Metadata: {node.metadata}\")"
   ]
  }
 ],
 "metadata": {
  "kernelspec": {
   "display_name": "llamaindex_tutorial",
   "language": "python",
   "name": "python3"
  },
  "language_info": {
   "codemirror_mode": {
    "name": "ipython",
    "version": 3
   },
   "file_extension": ".py",
   "mimetype": "text/x-python",
   "name": "python",
   "nbconvert_exporter": "python",
   "pygments_lexer": "ipython3",
   "version": "3.11.9"
  }
 },
 "nbformat": 4,
 "nbformat_minor": 2
}
