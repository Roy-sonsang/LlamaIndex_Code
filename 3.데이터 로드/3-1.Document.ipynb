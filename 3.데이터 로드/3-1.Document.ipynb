{
 "cells": [
  {
   "cell_type": "markdown",
   "metadata": {},
   "source": [
    "### 1. Document 객체 직접 생성"
   ]
  },
  {
   "cell_type": "code",
   "execution_count": 3,
   "metadata": {},
   "outputs": [
    {
     "name": "stdout",
     "output_type": "stream",
     "text": [
      "Doc ID: manual_ai_001\n",
      "Text: AI 챗봇 사용 가이드: - 간단한 질문으로 시작하세요 - 구체적인 예시를 포함하면 더 좋은 답변을 받을 수\n",
      "있습니다 - 부적절한 내용은 자동으로 필터링됩니다\n"
     ]
    }
   ],
   "source": [
    "from llama_index.core import Document\n",
    "\n",
    "# 예시 : 제품 설명서\n",
    "text = \"\"\"\n",
    "AI 챗봇 사용 가이드:\n",
    "- 간단한 질문으로 시작하세요\n",
    "- 구체적인 예시를 포함하면 더 좋은 답변을 받을 수 있습니다\n",
    "- 부적절한 내용은 자동으로 필터링됩니다\n",
    "\"\"\"\n",
    "document = Document(\n",
    "    text=text,\n",
    "    metadata={\"author\": \"제품개발팀\", \"category\": \"사용설명서\", \"version\": \"2.0\"},\n",
    "    id_=\"manual_ai_001\",\n",
    ")\n",
    "\n",
    "print(document)"
   ]
  },
  {
   "cell_type": "markdown",
   "metadata": {},
   "source": [
    "### 2. 기존 문서 로드하여 Document 객체 생성\n"
   ]
  },
  {
   "cell_type": "code",
   "execution_count": 1,
   "metadata": {},
   "outputs": [
    {
     "name": "stderr",
     "output_type": "stream",
     "text": [
      "Ignoring wrong pointing object 6 0 (offset 0)\n",
      "Ignoring wrong pointing object 8 0 (offset 0)\n"
     ]
    }
   ],
   "source": [
    "# llama_index의 가장 기본적인 데이터 로드 방법\n",
    "from llama_index.core import SimpleDirectoryReader\n",
    "\n",
    "# pdf 파일 로드 및 documents 변수에 저장\n",
    "documents = SimpleDirectoryReader(\"../data\", required_exts=[\".pdf\"]).load_data()"
   ]
  },
  {
   "cell_type": "code",
   "execution_count": 21,
   "metadata": {},
   "outputs": [
    {
     "name": "stdout",
     "output_type": "stream",
     "text": [
      "documents의 타입 :  <class 'list'>\n"
     ]
    }
   ],
   "source": [
    "print(\"documents의 타입 : \", type(documents))"
   ]
  },
  {
   "cell_type": "code",
   "execution_count": 19,
   "metadata": {},
   "outputs": [
    {
     "name": "stdout",
     "output_type": "stream",
     "text": [
      "documents[0]의 타입 :  <class 'llama_index.core.schema.Document'> \n",
      "\n",
      "Document 객체의 내용 :  [Document(id_='311b0e8a-08ca-45d9-bfd1-cf8479d59040', embedding=None, metadata={'page_label': '1', 'file_name': 'pdf_example.pdf', 'file_path': '/Users/sangwoo/Desktop/PYTHON BASIC/LLAMA_INDEX/LlamaIndex_Codes/3.의미적 유사성 평가하기/../data/pdf_example.pdf', 'file_type': 'application/pdf', 'file_size': 54188, 'creation_date': '2024-11-01', 'last_modified_date': '2024-11-01'}, excluded_embed_metadata_keys=['file_name', 'file_type', 'file_size', 'creation_date', 'last_modified_date', 'last_accessed_date'], excluded_llm_metadata_keys=['file_name', 'file_type', 'file_size', 'creation_date', 'last_modified_date', 'last_accessed_date'], relationships={}, text='제목: \"RAG의 개념\"  1. RAG란 무엇일까요? RAG는 \\'Retrieval-Augmented Generation\\'의 줄임말로, \\'정보 검색으로 보강된 생성\\'이라는 뜻입니다. 쉽게 말하면, AI가 질문에 답할 때 자신이 가진 지식에만 의존하지 않고, 필요한 정보를 찾아보고 답하는 방식입니다.  2. RAG는 어떻게 작동할까요? 학교 도서관에서 공부하는 학생을 떠올려봅시다. 선생님이 어려운 질문을 했을 때, 학생은 먼저 도서관에서 관련 책을 찾아보고, 그 내용을 바탕으로 답을 작성합니다. RAG도 이와 비슷하게 작동합니다. AI가 질문을 받으면, 먼저 관련 정보를 찾고(Retrieval), 그 정보를 바탕으로 답변을 만듭니다(Generation).  3. RAG의 장점은 무엇일까요? - 정확한 정보 제공: 마치 학생이 교과서를 보면서 답하는 것처럼, 신뢰할 수 있는 정보를 바탕으로 답변합니다. - 최신 정보 활용: 새로운 정보를 추가할 수 있어서, 항상 최신 정보로 답변할 수 있습니다. - 출처 제시: 어디서 정보를 찾았는지 알려줄 수 있어서 답변을 신뢰할 수 있습니다.  4. RAG의 실제 사용 예시 - 학교 도우미 AI: 학교 규칙이나 행사 정보에 대해 정확하게 답변할 수 있습니다. - 도서관 안내 로봇: 책의 위치나 내용에 대해 정확한 정보를 제공할 수 있습니다. - 고객 서비스 챗봇: 제품 정보나 자주 묻는 질문에 대해 정확하게 답변할 수 있습니다.  5. RAG와 일반 LLM의 차이점 일반 LLM는 마치 모든 것을 암기한 학생과 같습니다. 하지만 암기에만 의존하면 실수를 할 수 있고, 새로운 정보를 알지 못할 수 있습니다. RAG는 마치 필요할 때마다 책을 찾아보는 똑똑한 학생과 같습니다. 정확한 정보를 찾아보고 답하기 때문에 더 신뢰할 수 있습니다.  6. 결론 RAG는 AI가 더 똑똑하고 정확하게 답변하도록 도와주는 중요한 기술입니다. 마치 도서관에서 공부하는 학생처럼, 필요한 정보를 찾아보고 답하기 때문에 더 신뢰할 수 있는 답변을 제공할 수 있습니다. ', mimetype='text/plain', start_char_idx=None, end_char_idx=None, text_template='{metadata_str}\\n\\n{content}', metadata_template='{key}: {value}', metadata_seperator='\\n')]\n"
     ]
    }
   ],
   "source": [
    "print(\"documents[0]의 타입 : \", type(documents[0]), \"\\n\")\n",
    "print(\"Document 객체의 내용 : \", documents)"
   ]
  },
  {
   "cell_type": "code",
   "execution_count": 23,
   "metadata": {},
   "outputs": [
    {
     "name": "stdout",
     "output_type": "stream",
     "text": [
      "제목: \"RAG의 개념\"  1. RAG란 무엇일까요? RAG는 'Retrieval-Augmented Generation'의 줄임말로, '정보 검색으로 보강된 생성'이라는 뜻입니다. 쉽게 말하면, AI가 질문에 답할 때 자신이 가진 지식에만 의존하지 않고, 필요한 정보를 찾아보고 답하는 방식입니다.  2. RAG는 어떻게 작동할까요? 학교 도서관에서 공부하는 학생을 떠올려봅시다. 선생님이 어려운 질문을 했을 때, 학생은 먼저 도서관에서 관련 책을 찾아보고, 그 내용을 바탕으로 답을 작성합니다. RAG도 이와 비슷하게 작동합니다. AI가 질문을 받으면, 먼저 관련 정보를 찾고(Retrieval), 그 정보를 바탕으로 답변을 만듭니다(Generation).  3. RAG의 장점은 무엇일까요? - 정확한 정보 제공: 마치 학생이 교과서를 보면서 답하는 것처럼, 신뢰할 수 있는 정보를 바탕으로 답변합니다. - 최신 정보 활용: 새로운 정보를 추가할 수 있어서, 항상 최신 정보로 답변할 수 있습니다. - 출처 제시: 어디서 정보를 찾았는지 알려줄 수 있어서 답변을 신뢰할 수 있습니다.  4. RAG의 실제 사용 예시 - 학교 도우미 AI: 학교 규칙이나 행사 정보에 대해 정확하게 답변할 수 있습니다. - 도서관 안내 로봇: 책의 위치나 내용에 대해 정확한 정보를 제공할 수 있습니다. - 고객 서비스 챗봇: 제품 정보나 자주 묻는 질문에 대해 정확하게 답변할 수 있습니다.  5. RAG와 일반 LLM의 차이점 일반 LLM는 마치 모든 것을 암기한 학생과 같습니다. 하지만 암기에만 의존하면 실수를 할 수 있고, 새로운 정보를 알지 못할 수 있습니다. RAG는 마치 필요할 때마다 책을 찾아보는 똑똑한 학생과 같습니다. 정확한 정보를 찾아보고 답하기 때문에 더 신뢰할 수 있습니다.  6. 결론 RAG는 AI가 더 똑똑하고 정확하게 답변하도록 도와주는 중요한 기술입니다. 마치 도서관에서 공부하는 학생처럼, 필요한 정보를 찾아보고 답하기 때문에 더 신뢰할 수 있는 답변을 제공할 수 있습니다. \n",
      "pdf_example.pdf\n",
      "application/pdf\n",
      "d3b73757-a85c-4175-94e1-fd40045bdb83\n"
     ]
    }
   ],
   "source": [
    "# documents[0]를 변수에 저장\n",
    "document = documents[0]\n",
    "\n",
    "# 문서 내용 확인\n",
    "print(document.text)\n",
    "\n",
    "# 파일 정보 확인\n",
    "print(document.metadata[\"file_name\"])\n",
    "print(document.metadata[\"file_type\"])\n",
    "\n",
    "# 문서 ID 확인\n",
    "print(document.id_)"
   ]
  }
 ],
 "metadata": {
  "kernelspec": {
   "display_name": "llamaindex_tutorial",
   "language": "python",
   "name": "python3"
  },
  "language_info": {
   "codemirror_mode": {
    "name": "ipython",
    "version": 3
   },
   "file_extension": ".py",
   "mimetype": "text/x-python",
   "name": "python",
   "nbconvert_exporter": "python",
   "pygments_lexer": "ipython3",
   "version": "3.11.9"
  }
 },
 "nbformat": 4,
 "nbformat_minor": 2
}
